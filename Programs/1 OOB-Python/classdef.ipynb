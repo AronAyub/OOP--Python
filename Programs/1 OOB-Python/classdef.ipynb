{
 "cells": [
  {
   "cell_type": "code",
   "execution_count": 1,
   "metadata": {},
   "outputs": [
    {
     "name": "stdout",
     "output_type": "stream",
     "text": [
      "price of Car1 1000\n",
      "Price of Car 2:  35000\n",
      "Price of Car2 after Discount 26250.0\n",
      "\n"
     ]
    }
   ],
   "source": [
    "class Car:\n",
    "    def __init__(self, name, color, owner, age, price):\n",
    "        #adding properties of the cars\n",
    "        self.name = name\n",
    "        self.color = color\n",
    "        self.owner = owner\n",
    "        self.age = age\n",
    "        self.price =  price\n",
    "        \n",
    "#crating instance methods\n",
    "    def get_price(self):\n",
    "        if hasattr(self, \"_discount\"):\n",
    "            return self.price - (self.price * self._discount)\n",
    "        else:\n",
    "            return self.price\n",
    "    \n",
    "    def setdiscount(self, amount):\n",
    "        self._discount = amount\n",
    "\n",
    "\n",
    "c1 = Car('Toyota', 'Red', \"Aron Ayub\", 35,1000) # toyota object instanciated \n",
    "c2 = Car(\"Benz\", \"BLue\",\"Ayub\", 10, 35000 )\n",
    "\n",
    "print(\"price of Car1\", c1.get_price())\n",
    "\n",
    "print(\"Price of Car 2: \", c2.get_price())\n",
    "c2.setdiscount(0.25)\n",
    "\n",
    "print(\"Price of Car2 after Discount\", c2.get_price())\n",
    "print()\n",
    "\n",
    "#Properties with double underscores.\n",
    "\n"
   ]
  },
  {
   "cell_type": "code",
   "execution_count": 1,
   "metadata": {},
   "outputs": [
    {
     "name": "stdout",
     "output_type": "stream",
     "text": [
      "Aron Ayub Salary : 800 Sameer IoT Solutions 20 Technical Commercial Networks\n",
      "\n"
     ]
    }
   ],
   "source": [
    "class Liquid_Telcom:\n",
    "    def __init__(self, staff, officeL, salary, role, working_days, departments):\n",
    "        self.staff = staff\n",
    "        self.officeL = officeL\n",
    "        self.salary = salary\n",
    "        self.role = role\n",
    "        self.working_days = working_days\n",
    "        self.departments = departments\n",
    "    \n",
    "    def display_info(self, *args, **kwargs):\n",
    "        print(self.staff, self.salary, self.officeL, self.role, self.working_days, self.departments)\n",
    "\n",
    "    def request_info(self, *args, **kwargs):\n",
    "        print(\"please Enter your details in this order\")\n",
    "        print(\"Name, Salary, Office, role, department\")\n",
    "        stf1 = input(\"Enter the details: \")\n",
    "        return self.stf1\n",
    "\n",
    "staff1 = Liquid_Telcom(\"Aron Ayub\", \"Sameer\",\"Salary : 800\", \"Solutions\", 20, \"T C N\")\n",
    "\n",
    "\n",
    "staff1.display_info()\n",
    "print( )\n"
   ]
  },
  {
   "cell_type": "code",
   "execution_count": 2,
   "metadata": {},
   "outputs": [],
   "source": [
    "#requesting for details \n",
    "\n",
    "class Staff:\n",
    "    def __init__(self, name, salary, department, boss_name, working_days):\n",
    "        self.name = \"\"\n",
    "        self.salary = 0.0\n",
    "        self.department = \"\"\n",
    "        self.office_location = \"\"\n",
    "        self.boss_name = \"\"\n",
    "        self.working_days = []\n",
    "\n",
    "    def request_info(self):\n",
    "        self.name = input(\"Enter name: \")\n",
    "        self.salary = float(input(\"Enter salary: \"))\n",
    "        self.department = input(\"Enter department: \")\n",
    "        self.office_location = input(\"Enter office location: \")\n",
    "        self.boss_name = input(\"Enter boss name: \")\n",
    "        \n",
    "        working_days_input = input(\"Enter working days (comma-separated): \")\n",
    "        self.working_days = [day.strip() for day in working_days_input.split(\",\")]\n",
    "\n",
    "    def display_info(self):\n",
    "        print(f\"Name: {self.name}\")\n",
    "        print(f\"Salary: {self.salary}\")\n",
    "        print(f\"Department: {self.department}\")\n",
    "        print(f\"Office Location: {self.office_location}\")\n",
    "        print(f\"Boss Name: {self.boss_name}\")\n",
    "\n",
    "\n",
    "# Create a list to store employee objects\n",
    "employees = []\n",
    "\n",
    "# Input the number of employees you want to add\n",
    "num_employees = int(input(\"Enter the number of employees: \"))\n",
    "\n",
    "# Request details for each employee\n",
    "for _ in range(num_employees):\n",
    "    employee = Staff()\n",
    "    employee.request_info()\n",
    "    employees.append(employee)\n",
    "\n",
    "# Display information for all employees\n",
    "for i, employee in enumerate(employees, start=1):\n",
    "    print(f\"\\nEmployee {i} Details:\")\n",
    "    employee.display_info()\n"
   ]
  },
  {
   "cell_type": "code",
   "execution_count": 10,
   "metadata": {},
   "outputs": [
    {
     "name": "stdout",
     "output_type": "stream",
     "text": [
      "34 McLaw\n"
     ]
    }
   ],
   "source": [
    "#continuation\n",
    "class Car:\n",
    "    def __init__(self, name, color, owner, age, price):\n",
    "        #adding properties of the cars\n",
    "        self.name = name\n",
    "        self.color = color\n",
    "        self.owner = owner\n",
    "        self.age = age\n",
    "        self.price =  price\n",
    "        \n",
    "#crating instance methods\n",
    "    def get_price(self):\n",
    "        if hasattr(self, \"_discount\"):\n",
    "            return self.price - (self.price * self._discount)\n",
    "        else:\n",
    "            return self.price\n",
    "    \n",
    "    def setdiscount(self, amount):\n",
    "        self._discount = amount\n",
    "\n",
    "\n",
    "c1 = Car('Toyota', 'Red', \"Aron Ayub\", 35,1000) # toyota object instanciated \n",
    "c2 = Car(\"Benz\", \"BLue\",\"Ayub\", 10, 35000 )\n",
    "\n",
    "# print(\"price of Car1\", c1.get_price())\n",
    "\n",
    "# print(\"Price of Car 2: \", c2.get_price())\n",
    "# c2.setdiscount(0.25)\n",
    "\n",
    "# print(\"Price of Car2 after Discount\", c2.get_price())\n",
    "# print()\n",
    "\n",
    "#Define another class\n",
    "\n",
    "class Book:\n",
    "    def __init__(self, cost, author):\n",
    "        self.cost = cost\n",
    "        self.author = author\n",
    "\n",
    "    def display_info(self):\n",
    "        print(self.cost, self.author)\n",
    "        \n",
    "#Check the type of a class for a given object type ()\n",
    "\n",
    "n1 =Book(34, \"McLaw\")\n",
    "\n",
    "n1.display_info()\n",
    "\n",
    "# print(type(n1))\n",
    "# print(type(c1))\n",
    "print(type(n1)) == print(type(c1))\n",
    "print()\n",
    "#use isinstance\n",
    "print(isinstance(n1, Book))\n",
    "print(isinstance(c1, Book))"
   ]
  },
  {
   "cell_type": "code",
   "execution_count": 4,
   "metadata": {},
   "outputs": [
    {
     "name": "stdout",
     "output_type": "stream",
     "text": [
      "Book Types ('HARDCOVER', 'PAPERBACK', 'ETYPE')\n",
      "[<__main__.Book object at 0x00000284536D8370>, <__main__.Book object at 0x00000284536D9960>]\n"
     ]
    }
   ],
   "source": [
    "#class methods and members\n",
    "class Book:\n",
    "    #properties defineed at the class level are shared by all instances \n",
    "    BOOK_TYPES =  (\"HARDCOVER\", \"PAPERBACK\", \"ETYPE\")\n",
    "\n",
    "    #Double-underscore properties are hidden from other classes\n",
    "    __booklist = None \n",
    "\n",
    "    # create a class method.\n",
    "    @classmethod #class method decorator\n",
    "    def getbookstypes(cls):\n",
    "        return cls.BOOK_TYPES\n",
    "    \n",
    "    #create a static method\n",
    "    @staticmethod\n",
    "    def getbooklist():\n",
    "        if Book.__booklist == None:\n",
    "            Book.__booklist = []\n",
    "        return Book.__booklist\n",
    "    \n",
    "    def __init__(self, title, booktype) :\n",
    "        self.title=title\n",
    "        if(not booktype in Book.BOOK_TYPES):\n",
    "            raise ValueError(f\"{booktype} is not a valid Book type\")\n",
    "        else:\n",
    "            self.booktype = booktype\n",
    "\n",
    "    def setTitle(self, newtitle):\n",
    "        self.title = newtitle\n",
    "\n",
    "#acccess the class instanes \n",
    "print(\"Book Types\", Book.getbookstypes())\n",
    "\n",
    "#create some instances\n",
    "b1 = Book(\"title 1\", \"HARDCOVER\")\n",
    "b2 = Book(\"title 2\", \"PAPERBACK\")\n",
    "\n",
    "#Use the static method to access a singeton object\n",
    "thebooks = Book.getbooklist()\n",
    "thebooks.append(b1)\n",
    "thebooks.append(b2)\n",
    "print(thebooks)\n",
    "\n",
    "#makes sure that ony one object is \n"
   ]
  },
  {
   "cell_type": "code",
   "execution_count": null,
   "metadata": {},
   "outputs": [],
   "source": [
    "#inheritance\n",
    "#can inherit methods and attributets\n",
    "\n"
   ]
  },
  {
   "cell_type": "code",
   "execution_count": 9,
   "metadata": {},
   "outputs": [
    {
     "name": "stdout",
     "output_type": "stream",
     "text": [
      "The value of pi in approximately  3.14\n",
      "\n",
      "Result of the  3030 Curp detar\n"
     ]
    }
   ],
   "source": [
    "import math\n",
    "print(f'The value of pi in approximately {math.pi: .2f}')\n",
    "print()\n",
    "year  = 3030\n",
    "event  = 'Curp detar'\n",
    "print(f'Result of the  {year} {event}')"
   ]
  }
 ],
 "metadata": {
  "kernelspec": {
   "display_name": "Python 3",
   "language": "python",
   "name": "python3"
  },
  "language_info": {
   "codemirror_mode": {
    "name": "ipython",
    "version": 3
   },
   "file_extension": ".py",
   "mimetype": "text/x-python",
   "name": "python",
   "nbconvert_exporter": "python",
   "pygments_lexer": "ipython3",
   "version": "3.10.11"
  },
  "orig_nbformat": 4
 },
 "nbformat": 4,
 "nbformat_minor": 2
}
