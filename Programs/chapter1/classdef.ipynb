{
 "cells": [
  {
   "cell_type": "code",
   "execution_count": 1,
   "metadata": {},
   "outputs": [
    {
     "name": "stdout",
     "output_type": "stream",
     "text": [
      "price of Car1 1000\n",
      "Price of Car 2:  35000\n",
      "Price of Car2 after Discount 26250.0\n",
      "\n"
     ]
    }
   ],
   "source": [
    "class Car:\n",
    "    def __init__(self, name, color, owner, age, price):\n",
    "        #adding properties of the cars\n",
    "        self.name = name\n",
    "        self.color = color\n",
    "        self.owner = owner\n",
    "        self.age = age\n",
    "        self.price =  price\n",
    "        \n",
    "#crating instance methods\n",
    "    def get_price(self):\n",
    "        if hasattr(self, \"_discount\"):\n",
    "            return self.price - (self.price * self._discount)\n",
    "        else:\n",
    "            return self.price\n",
    "    \n",
    "    def setdiscount(self, amount):\n",
    "        self._discount = amount\n",
    "\n",
    "\n",
    "c1 = Car('Toyota', 'Red', \"Aron Ayub\", 35,1000) # toyota object instanciated \n",
    "c2 = Car(\"Benz\", \"BLue\",\"Ayub\", 10, 35000 )\n",
    "\n",
    "print(\"price of Car1\", c1.get_price())\n",
    "\n",
    "print(\"Price of Car 2: \", c2.get_price())\n",
    "c2.setdiscount(0.25)\n",
    "\n",
    "print(\"Price of Car2 after Discount\", c2.get_price())\n",
    "print()\n",
    "\n",
    "#Properties with double underscores.\n",
    "\n"
   ]
  },
  {
   "cell_type": "code",
   "execution_count": null,
   "metadata": {},
   "outputs": [],
   "source": [
    "class Liquid_Telcom:\n",
    "    def __init__(self, staff, officeL, salary, service, service_costs, departments):\n",
    "        self.staff = staff\n",
    "        self.officeL = officeL\n",
    "        self.salary = salary\n",
    "        self.service_costs = service_costs\n",
    "        self.departments = departments\n",
    "    \n",
    "    def get_staff(self, *args, **kwargs):\n",
    "        self."
   ]
  }
 ],
 "metadata": {
  "kernelspec": {
   "display_name": "Python 3",
   "language": "python",
   "name": "python3"
  },
  "language_info": {
   "codemirror_mode": {
    "name": "ipython",
    "version": 3
   },
   "file_extension": ".py",
   "mimetype": "text/x-python",
   "name": "python",
   "nbconvert_exporter": "python",
   "pygments_lexer": "ipython3",
   "version": "3.10.11"
  },
  "orig_nbformat": 4
 },
 "nbformat": 4,
 "nbformat_minor": 2
}
